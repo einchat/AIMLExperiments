{
 "cells": [
  {
   "cell_type": "markdown",
   "metadata": {},
   "source": [
    "## Neural network (with one hidden layer) from scratch ##\n",
    "#### Purpose of the neural network : 2 class classification ####\n",
    "### Learning objective: various activation functions, compute cross entropy loss, forward & backward propagation, random initialization ###"
   ]
  },
  {
   "cell_type": "markdown",
   "metadata": {},
   "source": [
    "### Input Data ###"
   ]
  },
  {
   "cell_type": "code",
   "execution_count": 60,
   "metadata": {},
   "outputs": [],
   "source": [
    "# Here input data X : has two input features (both are real numbers)\n",
    "# Y : has two classes 0, 1\n",
    "# We'll generate X, Y with help of code"
   ]
  },
  {
   "cell_type": "code",
   "execution_count": 61,
   "metadata": {},
   "outputs": [],
   "source": [
    "import matplotlib.pyplot as plt\n",
    "import numpy as np\n",
    "import sklearn\n",
    "import sklearn.datasets\n",
    "import sklearn.linear_model"
   ]
  },
  {
   "cell_type": "code",
   "execution_count": 121,
   "metadata": {},
   "outputs": [],
   "source": [
    "# function to create data set\n",
    "# create a flower like structure\n",
    "\n",
    "def load_planar_dataset(seed=1):\n",
    "    np.random.seed(seed)\n",
    "    m = 400 # number of examples\n",
    "    N = int(m/2) # number of points per class; N=200\n",
    "    D = 2 # dimensionality; two classes\n",
    "    X = np.zeros((m,D)) # data matrix where each row is a single example\n",
    "    Y = np.zeros((m,1), dtype='uint8') # labels vector (0 for red, 1 for blue)\n",
    "    a = 4 # maximum ray of the flower\n",
    "\n",
    "    for j in range(2):\n",
    "        ix = range(N*j,N*(j+1))# 0-199; 200-399;\n",
    "        \n",
    "        # numpy.linspace(start, stop, num=50, endpoint=True, retstep=False, dtype=None, axis=0)\n",
    "        # Return evenly spaced numbers over a specified interval\n",
    "        \n",
    "        # numpy.random.randn(d0, d1, ..., dn)\n",
    "        # d0, d1, …, dn : int, optional - The dimensions of the returned array\n",
    "        # Return a sample (or samples) from the “standard normal” distribution\n",
    "        \n",
    "        t = np.linspace(j*3.12,(j+1)*3.12,N) + np.random.randn(N)*0.2 # theta\n",
    "        \n",
    "        r = a*np.sin(4*t) + np.random.randn(N)*0.2 # radius\n",
    "        \n",
    "        X[ix] = np.c_[r*np.sin(t), r*np.cos(t)] \n",
    "        # numpy.c_ Translates slice objects to concatenation along the second axis\n",
    "        \n",
    "        Y[ix] = j\n",
    "        \n",
    "    X = X.T\n",
    "    Y = Y.T\n",
    "\n",
    "    return X, Y"
   ]
  },
  {
   "cell_type": "code",
   "execution_count": 63,
   "metadata": {},
   "outputs": [],
   "source": [
    "X, Y = load_planar_dataset()"
   ]
  },
  {
   "cell_type": "code",
   "execution_count": 64,
   "metadata": {},
   "outputs": [
    {
     "data": {
      "text/plain": [
       "(2, 400)"
      ]
     },
     "execution_count": 64,
     "metadata": {},
     "output_type": "execute_result"
    }
   ],
   "source": [
    "X.shape # X - the x(i)s are stacked horizontally"
   ]
  },
  {
   "cell_type": "code",
   "execution_count": 65,
   "metadata": {},
   "outputs": [
    {
     "data": {
      "text/plain": [
       "(1, 400)"
      ]
     },
     "execution_count": 65,
     "metadata": {},
     "output_type": "execute_result"
    }
   ],
   "source": [
    "Y.shape # Y - the y(i)s are stacked horizontally"
   ]
  },
  {
   "cell_type": "code",
   "execution_count": 66,
   "metadata": {},
   "outputs": [
    {
     "data": {
      "text/plain": [
       "<matplotlib.collections.PathCollection at 0xd21be80>"
      ]
     },
     "execution_count": 66,
     "metadata": {},
     "output_type": "execute_result"
    },
    {
     "data": {
      "image/png": "[encoded data removed]",
      "text/plain": [
       "<Figure size 432x288 with 1 Axes>"
      ]
     },
     "metadata": {
      "needs_background": "light"
     },
     "output_type": "display_data"
    }
   ],
   "source": [
    "%matplotlib inline\n",
    "# Visualize the data:\n",
    "plt.scatter(X[0, :], X[1, :])"
   ]
  },
  {
   "cell_type": "code",
   "execution_count": 67,
   "metadata": {},
   "outputs": [
    {
     "name": "stdout",
     "output_type": "stream",
     "text": [
      "[0.0063551  0.41813177] [0] [-1.68448953 -3.76359366] [1]\n"
     ]
    }
   ],
   "source": [
    "# checking some random data\n",
    "print(X[:,15], Y[:,15], X[:,228], Y[:,228] )"
   ]
  },
  {
   "cell_type": "markdown",
   "metadata": {},
   "source": [
    "### Simple Logistic Regression from Scikit learn - just to compare with NN model to be developed later ###"
   ]
  },
  {
   "cell_type": "code",
   "execution_count": 68,
   "metadata": {},
   "outputs": [
    {
     "name": "stderr",
     "output_type": "stream",
     "text": [
      "C:\\Users\\einchat\\AppData\\Local\\Continuum\\anaconda3\\lib\\site-packages\\sklearn\\utils\\validation.py:761: DataConversionWarning: A column-vector y was passed when a 1d array was expected. Please change the shape of y to (n_samples, ), for example using ravel().\n",
      "  y = column_or_1d(y, warn=True)\n",
      "C:\\Users\\einchat\\AppData\\Local\\Continuum\\anaconda3\\lib\\site-packages\\sklearn\\model_selection\\_split.py:2053: FutureWarning: You should specify a value for 'cv' instead of relying on the default value. The default value will change from 3 to 5 in version 0.22.\n",
      "  warnings.warn(CV_WARNING, FutureWarning)\n"
     ]
    }
   ],
   "source": [
    "classifier = sklearn.linear_model.LogisticRegressionCV(); # logisic regression with built is cross validation\n",
    "classifier.fit(X.T, Y.T); \n",
    "# in fit function X should have the dimension (m,nx); Y - (m,)"
   ]
  },
  {
   "cell_type": "code",
   "execution_count": 69,
   "metadata": {},
   "outputs": [
    {
     "name": "stdout",
     "output_type": "stream",
     "text": [
      "Accuracy of logistic regression: 47 % (percentage of correctly labelled datapoints)\n"
     ]
    }
   ],
   "source": [
    "# Print accuracy\n",
    "LR_predictions = classifier.predict(X.T)\n",
    "print ('Accuracy of logistic regression: %d ' % float((np.dot(Y,LR_predictions) + np.dot(1-Y,1-LR_predictions))/float(Y.size)*100) +\n",
    "       '% ' + \"(percentage of correctly labelled datapoints)\")"
   ]
  },
  {
   "cell_type": "code",
   "execution_count": 70,
   "metadata": {},
   "outputs": [],
   "source": [
    "# using an available function ## facing problem with this function\n",
    "\n",
    "def plot_decision_boundary(model, X, y):\n",
    "    # Set min and max values and give it some padding\n",
    "    x_min, x_max = X[0, :].min() - 1, X[0, :].max() + 1\n",
    "    y_min, y_max = X[1, :].min() - 1, X[1, :].max() + 1\n",
    "    h = 0.01\n",
    "    # Generate a grid of points with distance h between them\n",
    "    xx, yy = np.meshgrid(np.arange(x_min, x_max, h), np.arange(y_min, y_max, h))\n",
    "    # Predict the function value for the whole grid\n",
    "    Z = model(np.c_[xx.ravel(), yy.ravel()])\n",
    "    Z = Z.reshape(xx.shape)\n",
    "    # Plot the contour and training examples\n",
    "    plt.contourf(xx, yy, Z, cmap=plt.cm.Spectral)\n",
    "    plt.ylabel('x2')\n",
    "    plt.xlabel('x1')\n",
    "    plt.scatter(X[0, :], X[1, :], c=y, cmap=plt.cm.Spectral)"
   ]
  },
  {
   "cell_type": "markdown",
   "metadata": {},
   "source": [
    "### Neural Network Model ###"
   ]
  },
  {
   "cell_type": "code",
   "execution_count": 71,
   "metadata": {},
   "outputs": [],
   "source": [
    "# we will have the following model\n",
    "\n",
    "# Input layer - [0] : X = A0 - two input features - so n0=2; A0 - [n0 x m]\n",
    "# One hidden layer - [1] - n1 hidden units - n1=4 ; Activation function: tanh\n",
    "# Output layer [2] - n2 unit - n2=1; Activation function: sigmoid\n",
    "\n",
    "# Parameters for [1]\n",
    "# W1 - [n1 x n0] = [4 x 2] matrix\n",
    "# b1 - [n1 x 1] = [4 x 1] matrix\n",
    "\n",
    "# Parameters for [2]\n",
    "# W2 - [n2 x n1] = [1 x 4] matrix\n",
    "# b2 - [n2 x 1] = [1 x 1] matrix\n",
    "\n",
    "# Forward Pass\n",
    "# Z1 = W1 x A0 + b1 => [n1 x n0] x [n0 x m] + [n1 x 1] ==> [n1 x m]\n",
    "# A1 = tanh(Z1) => [n1 x m]\n",
    "# Z2 = W2 x A1 + b2 => [n2 x n1] x [n1 x m] + [n2 x 1] ==> [n2 x m]\n",
    "# Yhat= A2 = sigmoid(Z2) => [n2 x m] = [1 x m] -- this is same as dimension of Y\n",
    "\n",
    "# Cost function\n",
    "# This is binary classification - so cost function is as follows:\n",
    "# J = (-1/m)Sum (Y*log(Yhat)+(1-Y)*log(1-Yhat))\n",
    "\n",
    "# Backward Pass\n",
    "# dZ2 = A2 - Y; dimension [n2 x m]\n",
    "# dW2 = (1/m) dZ2 x A1.T ; dim check - [n2 x m] x [m x n1] => [n2 x n1] -- same as W2\n",
    "# db2 = (1/m) Sum(dZ2, column-wise sum) => [n2 x 1] -- same as b2\n",
    "# dZ1 = W2.T x dZ2 * g1prime(Z1) => [n1 x n2] x [n2 x m] * [n1 x m] => [n1 x m]; g1prime - derivative of g1 i,e, tanh\n",
    "# dW1 = (1/m) dZ1 x A0.T; [n1 x m] x [m x n0] => [n1 x n0] -- same as W1\n",
    "# db1 = (1/m) Sum(dZ1, column-wise sum) => [n1 x 1] -- same as b1\n",
    "\n",
    "# Update\n",
    "# W1 = W1 - alpha.dW1 and so on\n",
    "\n",
    "# What are variables\n",
    "# n0, n1, n2; \n",
    "\n",
    "# Functions to write in order to modularize\n",
    "# Initialize parameters - arg: n0, n1, n2; function: random initialization of W,b s and return them\n",
    "# Forward Pass function - arg: A0=X, W, b; function: calculate A2 and J\n",
    "# Backward Pass function - arg: A2, Y; function: calculate derivatives and update W,b\n",
    "# Predict function - arg: X_test; function: calculate Yhat_test and return"
   ]
  },
  {
   "cell_type": "code",
   "execution_count": 72,
   "metadata": {},
   "outputs": [],
   "source": [
    "def initialize_parameters(numberOfLayers, listNumberOfUnits):\n",
    "    \"\"\"\n",
    "    numberOfLayers - int - should include input layer also\n",
    "    listNumberOfUnits - array of int - units in each layer\n",
    "    \n",
    "    Returns:\n",
    "    a dictionary - parameters for W's and b's\n",
    "    \"\"\"\n",
    "    parameter = {} # start with empty dictionary\n",
    "    \n",
    "    for layer in range(1,numberOfLayers):\n",
    "        print(listNumberOfUnits[layer],listNumberOfUnits[layer-1])\n",
    "        Wlayer = np.random.randn(listNumberOfUnits[layer], listNumberOfUnits[layer-1]) * 0.01\n",
    "        blayer = np.zeros((listNumberOfUnits[layer],1))\n",
    "        parameter[\"W\"+str(layer)] = Wlayer\n",
    "        parameter[\"b\"+str(layer)] = blayer\n",
    "    \n",
    "    return parameter"
   ]
  },
  {
   "cell_type": "code",
   "execution_count": 73,
   "metadata": {},
   "outputs": [
    {
     "name": "stdout",
     "output_type": "stream",
     "text": [
      "4 2\n",
      "1 4\n"
     ]
    }
   ],
   "source": [
    "# test the initialize_parameters function\n",
    "numberOfLayers = 3 # including input layer\n",
    "listNumberOfUnits = [2,4,1]\n",
    "parameter=initialize_parameters(numberOfLayers, listNumberOfUnits)"
   ]
  },
  {
   "cell_type": "code",
   "execution_count": 74,
   "metadata": {},
   "outputs": [
    {
     "data": {
      "text/plain": [
       "(4, 2)"
      ]
     },
     "execution_count": 74,
     "metadata": {},
     "output_type": "execute_result"
    }
   ],
   "source": [
    "parameter[\"W1\"].shape"
   ]
  },
  {
   "cell_type": "code",
   "execution_count": 75,
   "metadata": {},
   "outputs": [
    {
     "data": {
      "text/plain": [
       "(1, 4)"
      ]
     },
     "execution_count": 75,
     "metadata": {},
     "output_type": "execute_result"
    }
   ],
   "source": [
    "parameter[\"W2\"].shape"
   ]
  },
  {
   "cell_type": "code",
   "execution_count": 76,
   "metadata": {},
   "outputs": [
    {
     "data": {
      "text/plain": [
       "array([[ 0.00209097,  0.01555016, -0.00569149, -0.01061797]])"
      ]
     },
     "execution_count": 76,
     "metadata": {},
     "output_type": "execute_result"
    }
   ],
   "source": [
    "parameter[\"W2\"]"
   ]
  },
  {
   "cell_type": "code",
   "execution_count": 77,
   "metadata": {},
   "outputs": [
    {
     "data": {
      "text/plain": [
       "4"
      ]
     },
     "execution_count": 77,
     "metadata": {},
     "output_type": "execute_result"
    }
   ],
   "source": [
    "len(parameter)"
   ]
  },
  {
   "cell_type": "code",
   "execution_count": 93,
   "metadata": {},
   "outputs": [],
   "source": [
    "def forward_pass(X,Y, parameter):\n",
    "    \"\"\"\n",
    "    X - input - dimension [n0 x m]; Note: X=A0; n0=nx;\n",
    "    Y - ground truth - [nL x m]\n",
    "    parameter - dictionary - contains W's, b's\n",
    "    \n",
    "    Returns:\n",
    "    activation values - dictionary\n",
    "    J - cost \n",
    "    \"\"\"\n",
    "    \n",
    "    m = X.shape[1]\n",
    "    numberLayers = int(len(parameter)/2) # this is without input layer - if len(parameter)==10 - then means 5 layers\n",
    "    A_prev = X\n",
    "    J = 0\n",
    "    activation = {} # start with empty dictionary\n",
    "    activation['0'] = X\n",
    "    \n",
    "    for layer in range(1,numberLayers+1): # i.e. 1 to 5\n",
    "        W = parameter[\"W\" + str(layer)]\n",
    "        b = parameter[\"b\" + str(layer)]\n",
    "        #print('layer' + str(layer))\n",
    "        #print('shape: W')\n",
    "        #print(W.shape)\n",
    "        #print('shape: A_prev')\n",
    "        #print(A_prev.shape)\n",
    "        Z = np.dot(W,A_prev) + b\n",
    "        if layer != numberLayers:\n",
    "            A = activationFunction(Z, 'tanh')\n",
    "        else:\n",
    "            A = activationFunction(Z, 'sigmoid')\n",
    "        activation[str(layer)]= A\n",
    "        A_prev = A\n",
    "    \n",
    "    # at end of iteration, Yhat = A\n",
    "    \n",
    "    J = (-1/m)*np.sum( Y*np.log(A) + (1-Y)*np.log(1-A))\n",
    "    \n",
    "    return activation,J"
   ]
  },
  {
   "cell_type": "code",
   "execution_count": 94,
   "metadata": {},
   "outputs": [],
   "source": [
    "# Write the activation function \n",
    "# Assumption: hidden layer - tanh activation function; output layer - sigmoid function\n",
    "def activationFunction(Z, fn='tanh'):\n",
    "    \"\"\"\n",
    "    Z - a matrix\n",
    "    layer - int - indicating the current layer\n",
    "    \n",
    "    Returns:\n",
    "    result of activation \n",
    "    \"\"\"\n",
    "    if fn== 'sigmoid':\n",
    "        # sigmoid\n",
    "        A = 1/(1+np.exp(-Z))\n",
    "    else:\n",
    "        # tanh\n",
    "        A = (np.exp(Z)-np.exp(-Z))/(np.exp(Z)+np.exp(-Z))\n",
    "    \n",
    "    return A"
   ]
  },
  {
   "cell_type": "code",
   "execution_count": 95,
   "metadata": {},
   "outputs": [
    {
     "data": {
      "text/plain": [
       "0.5"
      ]
     },
     "execution_count": 95,
     "metadata": {},
     "output_type": "execute_result"
    }
   ],
   "source": [
    "# test activationFunction\n",
    "activationFunction(0,\"sigmoid\")"
   ]
  },
  {
   "cell_type": "code",
   "execution_count": 96,
   "metadata": {},
   "outputs": [
    {
     "data": {
      "text/plain": [
       "0.0"
      ]
     },
     "execution_count": 96,
     "metadata": {},
     "output_type": "execute_result"
    }
   ],
   "source": [
    "activationFunction(0,\"tanh\")"
   ]
  },
  {
   "cell_type": "code",
   "execution_count": 97,
   "metadata": {},
   "outputs": [
    {
     "data": {
      "text/plain": [
       "-0.9999999958776926"
      ]
     },
     "execution_count": 97,
     "metadata": {},
     "output_type": "execute_result"
    }
   ],
   "source": [
    "activationFunction(-10,\"tanh\")"
   ]
  },
  {
   "cell_type": "code",
   "execution_count": 98,
   "metadata": {},
   "outputs": [],
   "source": [
    "# Backward Pass\n",
    "# dZ2 = A2 - Y; dimension [n2 x m]\n",
    "# dW2 = (1/m) dZ2 x A1.T ; dim check - [n2 x m] x [m x n1] => [n2 x n1] -- same as W2\n",
    "# db2 = (1/m) Sum(dZ2, column-wise sum) => [n2 x 1] -- same as b2\n",
    "# dZ1 = W2.T x dZ2 * g1prime(Z1) => [n1 x n2] x [n2 x m] * [n1 x m] => [n1 x m]; g1prime - derivative of g1 i,e, tanh\n",
    "### derivative of tanh(Z) = 1- tanh(Z)^2\n",
    "# dW1 = (1/m) dZ1 x A0.T; [n1 x m] x [m x n0] => [n1 x n0] -- same as W1\n",
    "# db1 = (1/m) Sum(dZ1, column-wise sum) => [n1 x 1] -- same as b1\n",
    "\n",
    "# Backward Pass function - arg: A2, Y; function: calculate derivatives and update W,b\n",
    "\n",
    "def backward_pass(Yhat, Y, parameter, activation, alpha=0.01):\n",
    "    \"\"\"\"\n",
    "    Yhat, Y - [nL x m]\n",
    "    parameter - dictionary containing W's, b's\n",
    "    activation - dictionary conatining activation values\n",
    "    \n",
    "    Returns:\n",
    "    updated parameters\n",
    "    \"\"\"\n",
    "    \n",
    "    m = Y.shape[1]\n",
    "    numberLayers = int(len(parameter)/2) # this is without the input layer\n",
    "    \n",
    "    ## shall try the loop based implementation layer\n",
    "    ## now lets do basic calculation\n",
    "    dZ2 = Yhat - Y\n",
    "    dW2 = (1/m)*np.dot(dZ2, activation['1'].T)\n",
    "    db2 = (1/m)*np.sum(dZ2, axis=1, keepdims=True)\n",
    "    dZ1 = np.dot(parameter[\"W2\"].T,dZ2) * (1 - np.power(activation['1'], 2))# g1prime -- tanh-derivative - 1-a^2;\n",
    "    dW1 = (1/m)* np.dot(dZ1, activation['0'].T)\n",
    "    db1 = (1/m)* np.sum(dZ1, axis=1, keepdims=True)\n",
    "    \n",
    "    parameter['W1'] = parameter['W1'] - alpha* dW1\n",
    "    parameter['b1'] = parameter['b1'] - alpha* db1\n",
    "    parameter['W2'] = parameter['W2'] - alpha* dW2\n",
    "    parameter['b2'] = parameter['b2'] - alpha* db2\n",
    "    \n",
    "    return parameter"
   ]
  },
  {
   "cell_type": "code",
   "execution_count": 99,
   "metadata": {},
   "outputs": [
    {
     "data": {
      "text/plain": [
       "(2, 400)"
      ]
     },
     "execution_count": 99,
     "metadata": {},
     "output_type": "execute_result"
    }
   ],
   "source": [
    "X.shape"
   ]
  },
  {
   "cell_type": "code",
   "execution_count": 100,
   "metadata": {},
   "outputs": [
    {
     "data": {
      "text/plain": [
       "(1, 400)"
      ]
     },
     "execution_count": 100,
     "metadata": {},
     "output_type": "execute_result"
    }
   ],
   "source": [
    "Y.shape"
   ]
  },
  {
   "cell_type": "code",
   "execution_count": 107,
   "metadata": {},
   "outputs": [
    {
     "name": "stdout",
     "output_type": "stream",
     "text": [
      "4 2\n",
      "1 4\n",
      "Iteration 0\n",
      "Cost0.6931621661402946\n",
      "Iteration 1000\n",
      "Cost0.25862506828690474\n",
      "Iteration 2000\n",
      "Cost0.2393335165458315\n",
      "Iteration 3000\n",
      "Cost0.23080163442975746\n",
      "Iteration 4000\n",
      "Cost0.2255280270817635\n",
      "Iteration 5000\n",
      "Cost0.221844675950227\n",
      "Iteration 6000\n",
      "Cost0.21909438354878738\n",
      "Iteration 7000\n",
      "Cost0.2206059477385167\n",
      "Iteration 8000\n",
      "Cost0.21939415031175855\n",
      "Iteration 9000\n",
      "Cost0.21848062185993705\n",
      "Iteration 10000\n",
      "Cost0.21773715034491392\n",
      "Iteration 11000\n",
      "Cost0.2171129219042612\n",
      "Iteration 12000\n",
      "Cost0.21657724801406075\n",
      "Iteration 13000\n",
      "Cost0.2161096988101459\n",
      "Iteration 14000\n",
      "Cost0.21569602938821353\n",
      "Iteration 15000\n",
      "Cost0.2153259648926916\n",
      "Iteration 16000\n",
      "Cost0.21499187546572515\n",
      "Iteration 17000\n",
      "Cost0.21468794744001402\n",
      "Iteration 18000\n",
      "Cost0.2144096488651103\n",
      "Iteration 19000\n",
      "Cost0.2141533757143732\n"
     ]
    }
   ],
   "source": [
    "## actual running the model\n",
    "np.random.seed(3)\n",
    "numberOfIteration = 20000\n",
    "numberOfLayers = 3\n",
    "listNumberOfUnits = [2,4,1]\n",
    "alpha = 1.2\n",
    "parameter = initialize_parameters(numberOfLayers, listNumberOfUnits)\n",
    "for i in range(numberOfIteration):\n",
    "    #print('i '+str(i))\n",
    "    activation,J = forward_pass(X,Y, parameter)\n",
    "    if (i%1000==0):\n",
    "        print('Iteration '+str(i))\n",
    "        print('Cost' + str(J))\n",
    "    \n",
    "    Yhat = activation[str(numberOfLayers-1)]\n",
    "    parameter = backward_pass(Yhat, Y, parameter, activation, alpha)\n",
    "    "
   ]
  },
  {
   "cell_type": "code",
   "execution_count": 109,
   "metadata": {},
   "outputs": [
    {
     "name": "stdout",
     "output_type": "stream",
     "text": [
      "[[ 14.23170772  -4.10699665]\n",
      " [  0.15721204 -10.61130347]\n",
      " [ 15.21150097  17.56780148]\n",
      " [ 11.24307005 -12.21754247]]\n"
     ]
    }
   ],
   "source": [
    "print (parameter['W1'])"
   ]
  },
  {
   "cell_type": "code",
   "execution_count": 110,
   "metadata": {},
   "outputs": [
    {
     "name": "stdout",
     "output_type": "stream",
     "text": [
      "[[0.48568691]\n",
      " [0.02886921]\n",
      " [0.05850066]\n",
      " [0.01906178]]\n"
     ]
    }
   ],
   "source": [
    "print(parameter['b1'])"
   ]
  },
  {
   "cell_type": "code",
   "execution_count": 112,
   "metadata": {},
   "outputs": [
    {
     "name": "stdout",
     "output_type": "stream",
     "text": [
      "[[ -3.5832056  -13.03589833  -6.66198143  11.19409684]]\n"
     ]
    }
   ],
   "source": [
    "print(parameter['W2'])"
   ]
  },
  {
   "cell_type": "code",
   "execution_count": 113,
   "metadata": {},
   "outputs": [
    {
     "data": {
      "text/plain": [
       "array([[-0.07092283]])"
      ]
     },
     "execution_count": 113,
     "metadata": {},
     "output_type": "execute_result"
    }
   ],
   "source": [
    "parameter['b2']"
   ]
  },
  {
   "cell_type": "code",
   "execution_count": 114,
   "metadata": {},
   "outputs": [],
   "source": [
    "# Predict function - arg: X_test; function: calculate Yhat_test and return\n",
    "def predict_class(X_test, parameters):\n",
    "    \"\"\"\n",
    "    X - input - dimension [n0 x m]; Note: X=A0; n0=nx;\n",
    "    parameter - dictionary - contains W's, b's\n",
    "    \n",
    "    Returns:\n",
    "    Yhat - [nL x m] matrix\n",
    "    \"\"\"\n",
    "    \n",
    "    m = X_test.shape[1]\n",
    "    numberLayers = int(len(parameter)/2) # this is without input layer - if len(parameter)==10 - then means 5 layers\n",
    "    A_prev = X_test\n",
    "    \n",
    "    for layer in range(1,numberLayers+1): # i.e. 1 to 5\n",
    "        W = parameter[\"W\" + str(layer)]\n",
    "        b = parameter[\"b\" + str(layer)]\n",
    "        Z = np.dot(W,A_prev) + b\n",
    "        if layer != numberLayers:\n",
    "            A = activationFunction(Z, 'tanh')\n",
    "        else:\n",
    "            A = activationFunction(Z, 'sigmoid')\n",
    "        A_prev = A\n",
    "    \n",
    "    # at end of iteration, Yhat = A\n",
    "    # Now if probability > 0.5 - we'll classify as 1; otherwise 0\n",
    "    Yhat = A>0.5\n",
    "    \n",
    "    return Yhat    "
   ]
  },
  {
   "cell_type": "code",
   "execution_count": 116,
   "metadata": {},
   "outputs": [],
   "source": [
    "Predictions = predict_class(X, parameter)"
   ]
  },
  {
   "cell_type": "code",
   "execution_count": 117,
   "metadata": {},
   "outputs": [
    {
     "name": "stdout",
     "output_type": "stream",
     "text": [
      "Accuracy: 90%\n"
     ]
    }
   ],
   "source": [
    "print ('Accuracy: %d' % float((np.dot(Y,Predictions.T) + np.dot(1-Y,1-Predictions.T))/float(Y.size)*100) + '%')"
   ]
  },
  {
   "cell_type": "markdown",
   "metadata": {},
   "source": [
    "#### So this is better than the logistic regression result ####\n",
    "#### however there is a flaw that we are training and testing on the same generated dataset ####\n",
    "#### So let us load the dataset by changing the random seed and see ####"
   ]
  },
  {
   "cell_type": "code",
   "execution_count": 122,
   "metadata": {},
   "outputs": [],
   "source": [
    "X, Y = load_planar_dataset(7)"
   ]
  },
  {
   "cell_type": "code",
   "execution_count": 123,
   "metadata": {},
   "outputs": [],
   "source": [
    "Predictions = predict_class(X, parameter)"
   ]
  },
  {
   "cell_type": "code",
   "execution_count": 124,
   "metadata": {},
   "outputs": [
    {
     "name": "stdout",
     "output_type": "stream",
     "text": [
      "Accuracy: 91%\n"
     ]
    }
   ],
   "source": [
    "print ('Accuracy: %d' % float((np.dot(Y,Predictions.T) + np.dot(1-Y,1-Predictions.T))/float(Y.size)*100) + '%')"
   ]
  },
  {
   "cell_type": "markdown",
   "metadata": {},
   "source": [
    "### End of notebook ###\n",
    "### Learnings ###\n",
    "#### Generate data set ####\n",
    "#### Write initialization, forward, backward, predict functions ####\n",
    "#### Idea on a simple NN with one hidden layer written from scratch ####\n"
   ]
  },
  {
   "cell_type": "code",
   "execution_count": 125,
   "metadata": {},
   "outputs": [],
   "source": [
    "# The above coding is inspired by the deep learning course of Prof. Andrew Ng"
   ]
  },
  {
   "cell_type": "code",
   "execution_count": null,
   "metadata": {},
   "outputs": [],
   "source": []
  }
 ],
 "metadata": {
  "kernelspec": {
   "display_name": "Python 3",
   "language": "python",
   "name": "python3"
  },
  "language_info": {
   "codemirror_mode": {
    "name": "ipython",
    "version": 3
   },
   "file_extension": ".py",
   "mimetype": "text/x-python",
   "name": "python",
   "nbconvert_exporter": "python",
   "pygments_lexer": "ipython3",
   "version": "3.7.1"
  }
 },
 "nbformat": 4,
 "nbformat_minor": 2
}
