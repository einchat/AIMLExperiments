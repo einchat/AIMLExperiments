{
 "cells": [
  {
   "cell_type": "markdown",
   "metadata": {},
   "source": [
    "### We are trying to do a logistic regression using neural network concepts ###\n",
    "#### The idea is to develop a simple neural network for binary classification of images (cat / no-cat) ####\n",
    "#### We'll just use basic numpy functions to develop this model and try to predict with help of that ####\n",
    "#### This would help form the basic idea on LR and Neural Network as well ####"
   ]
  },
  {
   "cell_type": "code",
   "execution_count": 135,
   "metadata": {},
   "outputs": [],
   "source": [
    "# Information about notations, dimensions etc\n",
    "\n",
    "# m - number of training examples\n",
    "# nx - number of input features\n",
    "# each image dimension : h pixel x w pixel x 3 colours(RGB)\n",
    "# so nx = h * w * 3\n",
    "# dimension for one training example x(i): nx x 1 # nx rows, 1 column\n",
    "# dimension for all training examples X : nx x m\n",
    "# dimension for one training example output label y(i): 1 x 1 \n",
    "# dimension for all training example output labels Y : 1 x m\n",
    "\n",
    "# model:\n",
    "# yhat(i) = sigmoid(z(i)) = sigmoid(wT*x(i) + b) where w = weight matrix; wT = transpose of w; b = bias\n",
    "# we denote: z(i) = wT*x(i) + b\n",
    "# now, w dimension : nx x 1\n",
    "# wT dimension : 1 x nx\n",
    "# wT * X => [1 x nx] * [nx x m] => [1 x m] matrix\n",
    "# As a result: sigmoid(wT * X + b) is [1 x m] matrix which is Yhat \n",
    "# So in forward propagation, we calculate Yhat i.e. all yhat(i)\n",
    "# Z => [z(1) z(2) ... z(m)] => [1 x m] matrix\n",
    "\n",
    "# Now Loss function for one example: L(yhat(i),y(i)) = -[y(i)log(yhat(i))+ (1-y(i))log(1-yhat(i))]\n",
    "# Overall Cost function J = (1/m) * Sum over all individual examples Loss function\n",
    "# Now we have to minimize this J - so do the back propagation \n",
    "\n",
    "# Now w: [nx x 1] matrix \n",
    "#[... i.e. w1, w2,..., wnx - corresponding to each input features]\n",
    "#[by calculus, it is shown that for one training example(i) dw1 (i.e. dJ/dw1) += x(i)1*dz(i) where dz(i)=yhat(i)-y(i)]\n",
    "#[and dZ = Yhat - Y; dimension: [1 x m]; so dZT dimension: [m x 1]]\n",
    "# dw: [nx x 1] matrix; dw = (1/m)* X * dZT; dimension: [nx x m] * [m x 1] => [nx x 1]; same dimension as w\n",
    "# db = (1/m)* Sum(dZ)\n",
    "# Back prop: w = w - alpha * dw; b = b - alpha*db; "
   ]
  },
  {
   "cell_type": "markdown",
   "metadata": {},
   "source": [
    "### Loading input data and understanding ###"
   ]
  },
  {
   "cell_type": "code",
   "execution_count": 136,
   "metadata": {},
   "outputs": [],
   "source": [
    "# load train, test set\n",
    "import h5py\n",
    "\n",
    "train_set_path = 'datasets_cat_vs_non_cat/train_catvnoncat.h5'\n",
    "test_set_path = 'datasets_cat_vs_non_cat/test_catvnoncat.h5'\n",
    "\n",
    "train_dataset = h5py.File(train_set_path, \"r\")\n",
    "test_dataset = h5py.File(test_set_path, \"r\")"
   ]
  },
  {
   "cell_type": "code",
   "execution_count": 137,
   "metadata": {},
   "outputs": [
    {
     "data": {
      "text/plain": [
       "h5py._hl.files.File"
      ]
     },
     "execution_count": 137,
     "metadata": {},
     "output_type": "execute_result"
    }
   ],
   "source": [
    "type(train_dataset)"
   ]
  },
  {
   "cell_type": "code",
   "execution_count": 138,
   "metadata": {},
   "outputs": [
    {
     "data": {
      "text/plain": [
       "['list_classes', 'train_set_x', 'train_set_y']"
      ]
     },
     "execution_count": 138,
     "metadata": {},
     "output_type": "execute_result"
    }
   ],
   "source": [
    "list(train_dataset.keys()) # this is an useful command to understand h5 file"
   ]
  },
  {
   "cell_type": "code",
   "execution_count": 139,
   "metadata": {},
   "outputs": [
    {
     "data": {
      "text/plain": [
       "<HDF5 dataset \"list_classes\": shape (2,), type \"|S7\">"
      ]
     },
     "execution_count": 139,
     "metadata": {},
     "output_type": "execute_result"
    }
   ],
   "source": [
    "train_dataset['list_classes']"
   ]
  },
  {
   "cell_type": "code",
   "execution_count": 140,
   "metadata": {},
   "outputs": [
    {
     "data": {
      "text/plain": [
       "b'non-cat'"
      ]
     },
     "execution_count": 140,
     "metadata": {},
     "output_type": "execute_result"
    }
   ],
   "source": [
    "train_dataset['list_classes'][0]"
   ]
  },
  {
   "cell_type": "code",
   "execution_count": 141,
   "metadata": {},
   "outputs": [
    {
     "data": {
      "text/plain": [
       "b'cat'"
      ]
     },
     "execution_count": 141,
     "metadata": {},
     "output_type": "execute_result"
    }
   ],
   "source": [
    "train_dataset['list_classes'][1]"
   ]
  },
  {
   "cell_type": "code",
   "execution_count": 142,
   "metadata": {},
   "outputs": [
    {
     "data": {
      "text/plain": [
       "<HDF5 dataset \"train_set_x\": shape (209, 64, 64, 3), type \"|u1\">"
      ]
     },
     "execution_count": 142,
     "metadata": {},
     "output_type": "execute_result"
    }
   ],
   "source": [
    "train_dataset['train_set_x']"
   ]
  },
  {
   "cell_type": "code",
   "execution_count": 143,
   "metadata": {},
   "outputs": [
    {
     "data": {
      "text/plain": [
       "<HDF5 dataset \"train_set_y\": shape (209,), type \"<i8\">"
      ]
     },
     "execution_count": 143,
     "metadata": {},
     "output_type": "execute_result"
    }
   ],
   "source": [
    "train_dataset['train_set_y']"
   ]
  },
  {
   "cell_type": "code",
   "execution_count": 144,
   "metadata": {},
   "outputs": [
    {
     "data": {
      "text/plain": [
       "['list_classes', 'test_set_x', 'test_set_y']"
      ]
     },
     "execution_count": 144,
     "metadata": {},
     "output_type": "execute_result"
    }
   ],
   "source": [
    "list(test_dataset.keys())"
   ]
  },
  {
   "cell_type": "code",
   "execution_count": 145,
   "metadata": {},
   "outputs": [
    {
     "data": {
      "text/plain": [
       "<HDF5 dataset \"test_set_x\": shape (50, 64, 64, 3), type \"|u1\">"
      ]
     },
     "execution_count": 145,
     "metadata": {},
     "output_type": "execute_result"
    }
   ],
   "source": [
    "test_dataset['test_set_x']"
   ]
  },
  {
   "cell_type": "code",
   "execution_count": 146,
   "metadata": {},
   "outputs": [],
   "source": [
    "# so we have 209 training example and 50 test examples\n",
    "# each image is 64 x 64 x 3"
   ]
  },
  {
   "cell_type": "code",
   "execution_count": 147,
   "metadata": {},
   "outputs": [],
   "source": [
    "import numpy as np"
   ]
  },
  {
   "cell_type": "code",
   "execution_count": 148,
   "metadata": {},
   "outputs": [],
   "source": [
    "train_set_x_orig = np.array(train_dataset[\"train_set_x\"][:]) # your train set features\n",
    "train_set_y_orig = np.array(train_dataset[\"train_set_y\"][:]) # your train set labels\n",
    "test_set_x_orig = np.array(test_dataset[\"test_set_x\"][:]) # your test set features\n",
    "test_set_y_orig = np.array(test_dataset[\"test_set_y\"][:]) # your test set labels\n",
    "classes = np.array(test_dataset[\"list_classes\"][:]) # the list of classes"
   ]
  },
  {
   "cell_type": "code",
   "execution_count": 149,
   "metadata": {},
   "outputs": [
    {
     "data": {
      "text/plain": [
       "(209, 64, 64, 3)"
      ]
     },
     "execution_count": 149,
     "metadata": {},
     "output_type": "execute_result"
    }
   ],
   "source": [
    "train_set_x_orig.shape"
   ]
  },
  {
   "cell_type": "code",
   "execution_count": 150,
   "metadata": {},
   "outputs": [
    {
     "data": {
      "text/plain": [
       "(209,)"
      ]
     },
     "execution_count": 150,
     "metadata": {},
     "output_type": "execute_result"
    }
   ],
   "source": [
    "train_set_y_orig.shape"
   ]
  },
  {
   "cell_type": "code",
   "execution_count": 151,
   "metadata": {},
   "outputs": [],
   "source": [
    "train_set_y_orig = train_set_y_orig.reshape((1, train_set_y_orig.shape[0])) # stacking horizontally\n",
    "test_set_y_orig = test_set_y_orig.reshape((1, test_set_y_orig.shape[0]))"
   ]
  },
  {
   "cell_type": "code",
   "execution_count": 152,
   "metadata": {},
   "outputs": [
    {
     "data": {
      "text/plain": [
       "(1, 209)"
      ]
     },
     "execution_count": 152,
     "metadata": {},
     "output_type": "execute_result"
    }
   ],
   "source": [
    "train_set_y_orig.shape"
   ]
  },
  {
   "cell_type": "code",
   "execution_count": 153,
   "metadata": {},
   "outputs": [
    {
     "data": {
      "text/plain": [
       "<matplotlib.image.AxesImage at 0x8a04400>"
      ]
     },
     "execution_count": 153,
     "metadata": {},
     "output_type": "execute_result"
    },
    {
     "data": {
      "image/png": "[encoded data removed]",
      "text/plain": [
       "<Figure size 432x288 with 1 Axes>"
      ]
     },
     "metadata": {
      "needs_background": "light"
     },
     "output_type": "display_data"
    }
   ],
   "source": [
    "import matplotlib.pyplot as plt\n",
    "%matplotlib inline\n",
    "plt.imshow(train_set_x_orig[158]) #check random image"
   ]
  },
  {
   "cell_type": "markdown",
   "metadata": {},
   "source": [
    "### Setting variables ###"
   ]
  },
  {
   "cell_type": "code",
   "execution_count": 154,
   "metadata": {},
   "outputs": [
    {
     "name": "stdout",
     "output_type": "stream",
     "text": [
      "209 50\n"
     ]
    }
   ],
   "source": [
    "m_train = train_set_x_orig.shape[0]\n",
    "m_test= test_set_x_orig.shape[0]\n",
    "print(m_train, m_test)"
   ]
  },
  {
   "cell_type": "code",
   "execution_count": 155,
   "metadata": {},
   "outputs": [
    {
     "data": {
      "text/plain": [
       "64"
      ]
     },
     "execution_count": 155,
     "metadata": {},
     "output_type": "execute_result"
    }
   ],
   "source": [
    "h = train_set_x_orig.shape[1]\n",
    "h"
   ]
  },
  {
   "cell_type": "code",
   "execution_count": 156,
   "metadata": {},
   "outputs": [
    {
     "data": {
      "text/plain": [
       "64"
      ]
     },
     "execution_count": 156,
     "metadata": {},
     "output_type": "execute_result"
    }
   ],
   "source": [
    "w = train_set_x_orig.shape[2]\n",
    "w"
   ]
  },
  {
   "cell_type": "code",
   "execution_count": 157,
   "metadata": {},
   "outputs": [
    {
     "data": {
      "text/plain": [
       "12288"
      ]
     },
     "execution_count": 157,
     "metadata": {},
     "output_type": "execute_result"
    }
   ],
   "source": [
    "nx = h*w*3\n",
    "nx"
   ]
  },
  {
   "cell_type": "markdown",
   "metadata": {},
   "source": [
    "#### Flatten X ####"
   ]
  },
  {
   "cell_type": "code",
   "execution_count": 158,
   "metadata": {},
   "outputs": [
    {
     "data": {
      "text/plain": [
       "(209, 64, 64, 3)"
      ]
     },
     "execution_count": 158,
     "metadata": {},
     "output_type": "execute_result"
    }
   ],
   "source": [
    "train_set_x_orig.shape"
   ]
  },
  {
   "cell_type": "code",
   "execution_count": 159,
   "metadata": {},
   "outputs": [],
   "source": [
    "train_set_x_flatten = train_set_x_orig.reshape((m_train,nx))"
   ]
  },
  {
   "cell_type": "code",
   "execution_count": 160,
   "metadata": {},
   "outputs": [
    {
     "data": {
      "text/plain": [
       "array([[[154, 153, 110],\n",
       "        [125, 125,  90],\n",
       "        [ 76,  77,  57],\n",
       "        ...,\n",
       "        [ 19,  19,  17],\n",
       "        [ 21,  22,  18],\n",
       "        [ 23,  24,  19]],\n",
       "\n",
       "       [[128, 127,  92],\n",
       "        [ 82,  82,  61],\n",
       "        [ 45,  46,  35],\n",
       "        ...,\n",
       "        [ 17,  17,  15],\n",
       "        [ 19,  19,  17],\n",
       "        [ 21,  21,  18]],\n",
       "\n",
       "       [[ 85,  85,  63],\n",
       "        [ 41,  42,  33],\n",
       "        [ 25,  26,  21],\n",
       "        ...,\n",
       "        [ 15,  15,  13],\n",
       "        [ 17,  17,  15],\n",
       "        [ 18,  18,  16]],\n",
       "\n",
       "       ...,\n",
       "\n",
       "       [[ 46,  46,  35],\n",
       "        [ 48,  48,  36],\n",
       "        [ 55,  55,  42],\n",
       "        ...,\n",
       "        [ 82,  81,  61],\n",
       "        [ 84,  83,  62],\n",
       "        [ 82,  81,  61]],\n",
       "\n",
       "       [[ 39,  39,  30],\n",
       "        [ 47,  47,  37],\n",
       "        [ 57,  58,  44],\n",
       "        ...,\n",
       "        [ 84,  83,  62],\n",
       "        [ 83,  82,  61],\n",
       "        [ 77,  77,  57]],\n",
       "\n",
       "       [[ 35,  35,  27],\n",
       "        [ 45,  45,  35],\n",
       "        [ 57,  58,  44],\n",
       "        ...,\n",
       "        [ 86,  85,  64],\n",
       "        [ 82,  81,  60],\n",
       "        [ 75,  75,  56]]], dtype=uint8)"
      ]
     },
     "execution_count": 160,
     "metadata": {},
     "output_type": "execute_result"
    }
   ],
   "source": [
    "# verify with a random sample\n",
    "train_set_x_orig[12]"
   ]
  },
  {
   "cell_type": "code",
   "execution_count": 161,
   "metadata": {},
   "outputs": [
    {
     "data": {
      "text/plain": [
       "array([154, 153, 110, ...,  75,  75,  56], dtype=uint8)"
      ]
     },
     "execution_count": 161,
     "metadata": {},
     "output_type": "execute_result"
    }
   ],
   "source": [
    "train_set_x_flatten[12]"
   ]
  },
  {
   "cell_type": "code",
   "execution_count": 162,
   "metadata": {},
   "outputs": [],
   "source": [
    "train_set_x_flatten = train_set_x_flatten.T # stack all the x(i) horizontally"
   ]
  },
  {
   "cell_type": "code",
   "execution_count": 163,
   "metadata": {},
   "outputs": [
    {
     "data": {
      "text/plain": [
       "(12288, 209)"
      ]
     },
     "execution_count": 163,
     "metadata": {},
     "output_type": "execute_result"
    }
   ],
   "source": [
    "train_set_x_flatten.shape"
   ]
  },
  {
   "cell_type": "code",
   "execution_count": 164,
   "metadata": {},
   "outputs": [
    {
     "data": {
      "text/plain": [
       "array([154, 153, 110, ...,  75,  75,  56], dtype=uint8)"
      ]
     },
     "execution_count": 164,
     "metadata": {},
     "output_type": "execute_result"
    }
   ],
   "source": [
    "train_set_x_flatten[:,12]"
   ]
  },
  {
   "cell_type": "code",
   "execution_count": 165,
   "metadata": {},
   "outputs": [],
   "source": [
    "test_set_x_flatten = test_set_x_orig.reshape((m_test,nx)).T"
   ]
  },
  {
   "cell_type": "code",
   "execution_count": 166,
   "metadata": {},
   "outputs": [
    {
     "data": {
      "text/plain": [
       "(12288, 50)"
      ]
     },
     "execution_count": 166,
     "metadata": {},
     "output_type": "execute_result"
    }
   ],
   "source": [
    "test_set_x_flatten.shape"
   ]
  },
  {
   "cell_type": "code",
   "execution_count": 167,
   "metadata": {},
   "outputs": [],
   "source": [
    "# scaling of features\n",
    "train_set_x_flatten = train_set_x_flatten/255\n",
    "test_set_x_flatten = test_set_x_flatten/255"
   ]
  },
  {
   "cell_type": "markdown",
   "metadata": {},
   "source": [
    "### Building the LR model as a small NN ###"
   ]
  },
  {
   "cell_type": "code",
   "execution_count": 168,
   "metadata": {},
   "outputs": [],
   "source": [
    "def sigmoid(z):\n",
    "    s = 1/(1+np.exp(-z))\n",
    "    return s"
   ]
  },
  {
   "cell_type": "code",
   "execution_count": 169,
   "metadata": {},
   "outputs": [
    {
     "data": {
      "text/plain": [
       "array([0.5       , 0.88079708])"
      ]
     },
     "execution_count": 169,
     "metadata": {},
     "output_type": "execute_result"
    }
   ],
   "source": [
    "sigmoid(np.array([0, 2]))"
   ]
  },
  {
   "cell_type": "code",
   "execution_count": 170,
   "metadata": {},
   "outputs": [],
   "source": [
    "# w dimension : nx x 1\n",
    "# initialize with zero\n",
    "w = np.zeros((nx,1))\n",
    "b = 0"
   ]
  },
  {
   "cell_type": "code",
   "execution_count": 171,
   "metadata": {},
   "outputs": [
    {
     "data": {
      "text/plain": [
       "(12288, 1)"
      ]
     },
     "execution_count": 171,
     "metadata": {},
     "output_type": "execute_result"
    }
   ],
   "source": [
    "w.shape"
   ]
  },
  {
   "cell_type": "code",
   "execution_count": 172,
   "metadata": {},
   "outputs": [
    {
     "data": {
      "text/plain": [
       "0"
      ]
     },
     "execution_count": 172,
     "metadata": {},
     "output_type": "execute_result"
    }
   ],
   "source": [
    "b"
   ]
  },
  {
   "cell_type": "code",
   "execution_count": 181,
   "metadata": {},
   "outputs": [],
   "source": [
    "number_iteration = 2000"
   ]
  },
  {
   "cell_type": "code",
   "execution_count": 174,
   "metadata": {},
   "outputs": [
    {
     "name": "stdout",
     "output_type": "stream",
     "text": [
      "(12288, 209) (1, 209) 209\n"
     ]
    }
   ],
   "source": [
    "X = train_set_x_flatten\n",
    "Y = train_set_y_orig\n",
    "m = m_train\n",
    "print(X.shape, Y.shape, m)"
   ]
  },
  {
   "cell_type": "code",
   "execution_count": 175,
   "metadata": {},
   "outputs": [],
   "source": [
    "# Write Cost function and test it\n",
    "def Cost(Y, Yhat):\n",
    "    m = Y.shape[1]\n",
    "    J = (-1/m)* np.sum(Y*np.log(Yhat) + (1-Y)*np.log(1-Yhat))\n",
    "    return J"
   ]
  },
  {
   "cell_type": "code",
   "execution_count": 187,
   "metadata": {},
   "outputs": [
    {
     "name": "stdout",
     "output_type": "stream",
     "text": [
      "iterataion 0\n",
      "Cost 0.04671901504145274\n",
      "iterataion 100\n",
      "Cost 0.04544448782858528\n",
      "iterataion 200\n",
      "Cost 0.044235287066799696\n",
      "iterataion 300\n",
      "Cost 0.04308660509863033\n",
      "iterataion 400\n",
      "Cost 0.04199409072884283\n",
      "iterataion 500\n",
      "Cost 0.040953796456596234\n",
      "iterataion 600\n",
      "Cost 0.03996213286653019\n",
      "iterataion 700\n",
      "Cost 0.039015829067847514\n",
      "iterataion 800\n",
      "Cost 0.038111898264009035\n",
      "iterataion 900\n",
      "Cost 0.0372476076918532\n",
      "iterataion 1000\n",
      "Cost 0.036420452295708394\n",
      "iterataion 1100\n",
      "Cost 0.03562813160546445\n",
      "iterataion 1200\n",
      "Cost 0.03486852937232398\n",
      "iterataion 1300\n",
      "Cost 0.03413969558574305\n",
      "iterataion 1400\n",
      "Cost 0.03343983055278775\n",
      "iterataion 1500\n",
      "Cost 0.03276727076906054\n",
      "iterataion 1600\n",
      "Cost 0.03212047635030417\n",
      "iterataion 1700\n",
      "Cost 0.03149801982722307\n",
      "iterataion 1800\n",
      "Cost 0.030898576134136723\n",
      "iterataion 1900\n",
      "Cost 0.030320913645733513\n"
     ]
    }
   ],
   "source": [
    "# initialize few variables\n",
    "#Yhat = np.zeros(Y.shape) # 1 x m # commenting this line - otherwise problem with np.log()\n",
    "J = 0.0\n",
    "dZ = np.zeros(Y.shape) # 1 x m\n",
    "dw = np.zeros(w.shape)\n",
    "db = 0.0\n",
    "alpha = 0.01\n",
    "#\n",
    "\n",
    "for i in range(number_iteration):\n",
    "    # for each iteration, we'll do the forward pass and calculate Yhat first\n",
    "    # Then we'll calculate the Cost J\n",
    "    # Then we'll do the backward pass i.e. calculate the derivatives and update w,b\n",
    "    \n",
    "    # FORWARD PASS\n",
    "    Yhat = sigmoid(np.dot(w.T,X)+b) # dimension check: [1 x nx] x [nx x m] => [1 x m]\n",
    "    \n",
    "    # COST\n",
    "    J = (-1/m)* np.sum(Y*np.log(Yhat) + (1-Y)*np.log(1-Yhat))\n",
    "    # print cost to see if this is working\n",
    "    if (i%100==0):\n",
    "        print('iterataion ' + str(i))\n",
    "        print('Cost ' + str(J))\n",
    "    #\n",
    "    \n",
    "    # DERIVATIVES FOR BACK-PROPAGATION\n",
    "    dZ = Yhat - Y # dimension: [1 x m]\n",
    "    dw = (1/m)* np.dot(X, dZ.T) # dimension: [nx x m] x [m x 1] => [nx x 1]\n",
    "    db = (1/m)* np.sum(dZ)\n",
    "    \n",
    "    \n",
    "    # UPDATE PARAMETERS\n",
    "    w = w - alpha*dw\n",
    "    b = b - alpha*db"
   ]
  },
  {
   "cell_type": "code",
   "execution_count": 183,
   "metadata": {},
   "outputs": [
    {
     "data": {
      "text/plain": [
       "array([[ 0.01451977],\n",
       "       [-0.03868506],\n",
       "       [-0.01718982],\n",
       "       ...,\n",
       "       [-0.01624916],\n",
       "       [-0.04051552],\n",
       "       [ 0.03650509]])"
      ]
     },
     "execution_count": 183,
     "metadata": {},
     "output_type": "execute_result"
    }
   ],
   "source": [
    "w"
   ]
  },
  {
   "cell_type": "code",
   "execution_count": 185,
   "metadata": {},
   "outputs": [
    {
     "data": {
      "text/plain": [
       "-0.0038051227273954266"
      ]
     },
     "execution_count": 185,
     "metadata": {},
     "output_type": "execute_result"
    }
   ],
   "source": [
    "b"
   ]
  },
  {
   "cell_type": "code",
   "execution_count": 184,
   "metadata": {},
   "outputs": [
    {
     "data": {
      "text/plain": [
       "0.06462578073874715"
      ]
     },
     "execution_count": 184,
     "metadata": {},
     "output_type": "execute_result"
    }
   ],
   "source": [
    "J"
   ]
  },
  {
   "cell_type": "markdown",
   "metadata": {},
   "source": [
    "### Now try prediciting ###"
   ]
  },
  {
   "cell_type": "code",
   "execution_count": 188,
   "metadata": {},
   "outputs": [],
   "source": [
    "X = test_set_x_flatten\n",
    "TestYhat = sigmoid(np.dot(w.T,X)+b)"
   ]
  },
  {
   "cell_type": "code",
   "execution_count": 189,
   "metadata": {},
   "outputs": [
    {
     "data": {
      "text/plain": [
       "(1, 50)"
      ]
     },
     "execution_count": 189,
     "metadata": {},
     "output_type": "execute_result"
    }
   ],
   "source": [
    "TestYhat.shape"
   ]
  },
  {
   "cell_type": "code",
   "execution_count": 190,
   "metadata": {},
   "outputs": [
    {
     "data": {
      "text/plain": [
       "array([[9.92140482e-01, 9.70954469e-01, 9.49514560e-01, 9.92563788e-01,\n",
       "        8.56382234e-01, 5.06124454e-01, 1.36068331e-03, 9.24295765e-01,\n",
       "        9.31238842e-01, 7.86582954e-01, 8.34928644e-02, 3.11000508e-01,\n",
       "        7.71466445e-01, 9.39817805e-01, 8.17700540e-04, 9.83767150e-01,\n",
       "        5.02565428e-03, 9.66743431e-01, 7.17347171e-02, 2.19623807e-03,\n",
       "        9.94102148e-01, 1.20725656e-01, 7.06730102e-04, 9.51655896e-01,\n",
       "        4.34452346e-01, 7.26273561e-01, 9.51758867e-01, 4.83820242e-04,\n",
       "        1.67713127e-03, 9.99900172e-01, 3.74728162e-02, 8.81654887e-01,\n",
       "        6.54252071e-01, 5.36900344e-01, 5.40713205e-01, 3.22485325e-03,\n",
       "        1.28862417e-02, 8.38744780e-01, 1.97235971e-01, 1.19334781e-02,\n",
       "        8.58129314e-01, 1.74587016e-01, 7.19550120e-01, 1.55419646e-03,\n",
       "        9.92389047e-01, 8.96997597e-01, 9.08585099e-02, 9.99348625e-01,\n",
       "        7.65103383e-01, 3.91082580e-02]])"
      ]
     },
     "execution_count": 190,
     "metadata": {},
     "output_type": "execute_result"
    }
   ],
   "source": [
    "TestYhat"
   ]
  },
  {
   "cell_type": "code",
   "execution_count": 191,
   "metadata": {},
   "outputs": [],
   "source": [
    "TestYhat2 = np.zeros(TestYhat.shape)\n",
    "for i in range(TestYhat.shape[1]):\n",
    "    if TestYhat[0,i]>= 0.5:\n",
    "        TestYhat2[0,i]=1    "
   ]
  },
  {
   "cell_type": "code",
   "execution_count": 192,
   "metadata": {},
   "outputs": [
    {
     "data": {
      "text/plain": [
       "array([[1., 1., 1., 1., 1., 1., 0., 1., 1., 1., 0., 0., 1., 1., 0., 1.,\n",
       "        0., 1., 0., 0., 1., 0., 0., 1., 0., 1., 1., 0., 0., 1., 0., 1.,\n",
       "        1., 1., 1., 0., 0., 1., 0., 0., 1., 0., 1., 0., 1., 1., 0., 1.,\n",
       "        1., 0.]])"
      ]
     },
     "execution_count": 192,
     "metadata": {},
     "output_type": "execute_result"
    }
   ],
   "source": [
    "TestYhat2"
   ]
  },
  {
   "cell_type": "code",
   "execution_count": 193,
   "metadata": {},
   "outputs": [
    {
     "data": {
      "text/plain": [
       "array([[1, 1, 1, 1, 1, 0, 1, 1, 1, 1, 1, 1, 1, 0, 0, 1, 0, 1, 1, 1, 1, 0,\n",
       "        0, 1, 1, 1, 1, 0, 1, 0, 1, 1, 1, 1, 0, 0, 0, 1, 0, 0, 1, 1, 1, 0,\n",
       "        0, 0, 1, 1, 1, 0]], dtype=int64)"
      ]
     },
     "execution_count": 193,
     "metadata": {},
     "output_type": "execute_result"
    }
   ],
   "source": [
    "test_set_y_orig"
   ]
  },
  {
   "cell_type": "code",
   "execution_count": 195,
   "metadata": {},
   "outputs": [
    {
     "data": {
      "text/plain": [
       "array([[False, False, False, False, False,  True,  True, False, False,\n",
       "        False,  True,  True, False,  True, False, False, False, False,\n",
       "         True,  True, False, False, False, False,  True, False, False,\n",
       "        False,  True,  True,  True, False, False, False,  True, False,\n",
       "        False, False, False, False, False,  True, False, False,  True,\n",
       "         True,  True, False, False, False]])"
      ]
     },
     "execution_count": 195,
     "metadata": {},
     "output_type": "execute_result"
    }
   ],
   "source": [
    "Error = (TestYhat2 != test_set_y_orig)\n",
    "Error"
   ]
  },
  {
   "cell_type": "code",
   "execution_count": 201,
   "metadata": {},
   "outputs": [
    {
     "data": {
      "text/plain": [
       "<matplotlib.image.AxesImage at 0x8ac5908>"
      ]
     },
     "execution_count": 201,
     "metadata": {},
     "output_type": "execute_result"
    },
    {
     "data": {
      "image/png": "[encoded data removed]",
      "text/plain": [
       "<Figure size 432x288 with 1 Axes>"
      ]
     },
     "metadata": {
      "needs_background": "light"
     },
     "output_type": "display_data"
    }
   ],
   "source": [
    "plt.imshow(test_set_x_orig[0]) #check random image"
   ]
  },
  {
   "cell_type": "code",
   "execution_count": 202,
   "metadata": {},
   "outputs": [
    {
     "data": {
      "text/plain": [
       "<matplotlib.image.AxesImage at 0x8b209b0>"
      ]
     },
     "execution_count": 202,
     "metadata": {},
     "output_type": "execute_result"
    },
    {
     "data": {
      "image/png": "[encoded data removed]",
      "text/plain": [
       "<Figure size 432x288 with 1 Axes>"
      ]
     },
     "metadata": {
      "needs_background": "light"
     },
     "output_type": "display_data"
    }
   ],
   "source": [
    "plt.imshow(test_set_x_orig[5]) #check random image"
   ]
  },
  {
   "cell_type": "code",
   "execution_count": 197,
   "metadata": {},
   "outputs": [
    {
     "data": {
      "text/plain": [
       "16"
      ]
     },
     "execution_count": 197,
     "metadata": {},
     "output_type": "execute_result"
    }
   ],
   "source": [
    "np.sum(Error)"
   ]
  },
  {
   "cell_type": "code",
   "execution_count": 198,
   "metadata": {},
   "outputs": [
    {
     "data": {
      "text/plain": [
       "0.32"
      ]
     },
     "execution_count": 198,
     "metadata": {},
     "output_type": "execute_result"
    }
   ],
   "source": [
    "# percentage error\n",
    "np.sum(Error)/Error.shape[1]"
   ]
  },
  {
   "cell_type": "markdown",
   "metadata": {},
   "source": [
    "### So with this basic model we are getting about 68% accuracy :) ###"
   ]
  },
  {
   "cell_type": "code",
   "execution_count": 199,
   "metadata": {},
   "outputs": [],
   "source": [
    "## This is inspired by a course on deep learning by Andrew Ng ##"
   ]
  },
  {
   "cell_type": "code",
   "execution_count": null,
   "metadata": {},
   "outputs": [],
   "source": []
  }
 ],
 "metadata": {
  "kernelspec": {
   "display_name": "Python 3",
   "language": "python",
   "name": "python3"
  },
  "language_info": {
   "codemirror_mode": {
    "name": "ipython",
    "version": 3
   },
   "file_extension": ".py",
   "mimetype": "text/x-python",
   "name": "python",
   "nbconvert_exporter": "python",
   "pygments_lexer": "ipython3",
   "version": "3.7.1"
  }
 },
 "nbformat": 4,
 "nbformat_minor": 2
}
